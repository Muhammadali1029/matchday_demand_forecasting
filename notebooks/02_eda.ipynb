{
 "cells": [
  {
   "cell_type": "markdown",
   "id": "693ca763",
   "metadata": {},
   "source": [
    "Load all the csvs into dataframs and analyse."
   ]
  },
  {
   "cell_type": "code",
   "execution_count": null,
   "id": "80c48765",
   "metadata": {},
   "outputs": [
    {
     "name": "stderr",
     "output_type": "stream",
     "text": [
      "\u001b[32m2025-09-26 18:43:54.947\u001b[0m | \u001b[1mINFO    \u001b[0m | \u001b[36mmatchday_demand_forecasting.config\u001b[0m:\u001b[36m<module>\u001b[0m:\u001b[36m11\u001b[0m - \u001b[1mPROJ_ROOT path is: /Users/muhammadalisyed/Desktop/Work/Learning/Machine Learning/Projects/matchday_demand_forecasting\u001b[0m\n",
      "/opt/anaconda3/envs/matchday_demand_forecasting/lib/python3.12/site-packages/openpyxl/styles/stylesheet.py:237: UserWarning: Workbook contains no default style, apply openpyxl's default\n",
      "  warn(\"Workbook contains no default style, apply openpyxl's default\")\n"
     ]
    }
   ],
   "source": [
    "import pandas as pd\n",
    "from matchday_demand_forecasting.config import RAW_DATA_DIR, RANDOM_SEED\n",
    "\n",
    "pd.set_option('display.max_columns', None)\n",
    "\n",
    "files = ['ORDER_DETAILS.xlsx', 'ORDER_HEADER.xlsx']\n",
    "data_paths = [RAW_DATA_DIR / file for file in files]\n",
    "\n",
    "df_1 = pd.read_excel(data_paths[0])\n",
    "df_2 = pd.read_excel(data_paths[1])"
   ]
  }
 ],
 "metadata": {
  "kernelspec": {
   "display_name": "matchday_demand_forecasting",
   "language": "python",
   "name": "python3"
  },
  "language_info": {
   "codemirror_mode": {
    "name": "ipython",
    "version": 3
   },
   "file_extension": ".py",
   "mimetype": "text/x-python",
   "name": "python",
   "nbconvert_exporter": "python",
   "pygments_lexer": "ipython3",
   "version": "3.12.11"
  }
 },
 "nbformat": 4,
 "nbformat_minor": 5
}
